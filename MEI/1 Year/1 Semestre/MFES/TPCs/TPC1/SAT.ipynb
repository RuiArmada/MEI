{
 "cells": [
  {
   "cell_type": "markdown",
   "metadata": {},
   "source": [
    "# **SAT Solving**\n",
    "\n",
    "## Informações sobre o aluno\n",
    "\n",
    "**Nome**: Rui Filipe Pimenta Armada<br>\n",
    "**Número**: PG50737<br>\n",
    "**Curso**: Mestrado em Engenharia Informática<br>"
   ]
  },
  {
   "cell_type": "code",
   "execution_count": 83,
   "metadata": {},
   "outputs": [
    {
     "name": "stdout",
     "output_type": "stream",
     "text": [
      "zsh:1: no matches found: python-sat[pblib,aiger]\n",
      "Note: you may need to restart the kernel to use updated packages.\n"
     ]
    }
   ],
   "source": [
    "pip install python-sat[pblib,aiger]"
   ]
  },
  {
   "cell_type": "code",
   "execution_count": 84,
   "metadata": {},
   "outputs": [],
   "source": [
    "from pysat.solvers import Minisat22"
   ]
  },
  {
   "cell_type": "markdown",
   "metadata": {},
   "source": [
    "## Pergunta 1"
   ]
  },
  {
   "cell_type": "code",
   "execution_count": 85,
   "metadata": {},
   "outputs": [],
   "source": [
    "\n",
    "# DICIONÁRIO DAS VARIÁVEIS PROPOSICIONAIS\n",
    "x = {\n",
    "    'CPU1': 1,\n",
    "    'CPU2': 2,\n",
    "    'RAM1': 3,\n",
    "    'RAM2': 4,\n",
    "    'MB1': 5,\n",
    "    'MB2': 6,\n",
    "    'PG1': 7,\n",
    "    'PG2': 8,\n",
    "    'PG3': 9,\n",
    "    'MON1': 10,\n",
    "    'MON2': 11,\n",
    "    'MON3': 12\n",
    "}\n"
   ]
  },
  {
   "cell_type": "markdown",
   "metadata": {},
   "source": [
    "### Formulas proposicionais"
   ]
  },
  {
   "cell_type": "markdown",
   "metadata": {},
   "source": [
    "1. Cada computador tem que obrigatóriamente uma única motherboard, um único CPU, uma única placa gráfica e uma única memória RAM.\n",
    "\n",
    "    * Motherboard\n",
    "\n",
    "        ``` \n",
    "            (MB1 ∨ MB2) ∧ (¬MB1 ∨ ¬MB2)\n",
    "        ```\n",
    "    * CPU\n",
    "        ```\n",
    "            (CPU1 ∨ CPU2) ∧ (¬CPU1 ∨ ¬CPU2)\n",
    "        ```\n",
    "\n",
    "    * Placa Gráfica\n",
    "        ```\n",
    "            (PG1 ∨ PG2 ∨ PG3) ∧ (¬PG1 ∨ ¬PG2) ∧ (¬PG1 ∨ ¬PG3) ∧ (¬PG2 ∨ ¬PG3)\n",
    "        ```\n",
    "\n",
    "    * RAM\n",
    "        ```\n",
    "            (RAM1 ∨ RAM2) ∧ (¬RAM1 ∨ ¬RAM2)\n",
    "        ```\n"
   ]
  },
  {
   "cell_type": "markdown",
   "metadata": {},
   "source": [
    "Relativamente à restrição dos monitores, visto que se pode ou nao pode ter monitores, a fórmula será uma tautologia, pelo que irá sempre adquirir o valor Verdadeiro."
   ]
  },
  {
   "cell_type": "markdown",
   "metadata": {},
   "source": [
    "2. A motherboard MB1 quando combinada com a placa gráfica PG1, obriga à utilização da RAM1.\n",
    "\n",
    "``` \n",
    "    MB1 ∧ PG1 -> RAM1\n",
    "        transformando em CNF:\n",
    "            ¬(MB1 ∧ PG1) ∨ (RAM1)\n",
    "        concluindo:\n",
    "            ¬MB1 ∨ ¬PG1 ∨ RAM1\n",
    "```  "
   ]
  },
  {
   "cell_type": "markdown",
   "metadata": {},
   "source": [
    "3. A placa gráfica PG1 precisa do CPU1, excepto quando combinada com uma memória RAM2\n",
    "\n",
    "```\n",
    "    PG1 -> (CPU1 ∨ RAM2)\n",
    "        transformando diretamente em CNF:\n",
    "            ¬PG1 ∨ CPU1 ∨ RAM2\n",
    "```"
   ]
  },
  {
   "cell_type": "markdown",
   "metadata": {},
   "source": [
    "4. O CPU2 só pode ser instalado na motherboard MB2\n",
    "\n",
    "```\n",
    "    CPU2 -> MB2\n",
    "        transformando diretamente em CNF:\n",
    "            ¬ CPU2 ∨ MB2\n",
    "```"
   ]
  },
  {
   "cell_type": "markdown",
   "metadata": {},
   "source": [
    "5. O monitor MON1 para poder funcionar precisa da placa gráfica PG1 e da memória RAM2.\n",
    "\n",
    "```\n",
    "    MON1 -> PG1 ∧ RAM2\n",
    "        transformando em CNF:\n",
    "            ¬MON1 ∨ (PG1 ∧ RAM2)\n",
    "        concluindo:\n",
    "            (¬MON1 ∨ PG1) ∧ (¬MON1 ∨ RAM2)\n",
    "```"
   ]
  },
  {
   "cell_type": "markdown",
   "metadata": {},
   "source": [
    "6. O monitor MON2 precisa da memória RAM2 para poder trabalhar com a placa gráfica PG3\n",
    "\n",
    "``` \n",
    "    (MON2 ∧ PG3) -> RAM2\n",
    "        transformando em CNF:\n",
    "            ¬(MON2 ∧ PG3) ∨ RAM2\n",
    "        concluindo:\n",
    "            ¬MON2 ∨ ¬PG3 ∨ RAM2 \n",
    "```"
   ]
  },
  {
   "cell_type": "markdown",
   "metadata": {},
   "source": [
    "## Pergunta 2"
   ]
  },
  {
   "cell_type": "code",
   "execution_count": 86,
   "metadata": {},
   "outputs": [
    {
     "name": "stdout",
     "output_type": "stream",
     "text": [
      "SAT\n",
      "[1, -2, 3, -4, 5, -6, 7, -8, -9, -10, -11]\n"
     ]
    }
   ],
   "source": [
    "s = Minisat22() #cria o solver\n",
    "\n",
    "# RESTRIÇÃO 1\n",
    "s.add_clause([x['MB1'], x['MB2']])\n",
    "s.add_clause([-x['MB1'], -x['MB2']])\n",
    "s.add_clause([x['CPU1'], x['CPU2']])\n",
    "s.add_clause([-x['CPU1'], -x['CPU2']])\n",
    "s.add_clause([x['PG1'], x['PG2'], x['PG3']])\n",
    "s.add_clause([-x['PG1'], -x['PG2']])\n",
    "s.add_clause([-x['PG1'], -x['PG3']])\n",
    "s.add_clause([-x['PG2'], -x['PG3']])\n",
    "s.add_clause([x['RAM1'], x['RAM2']])\n",
    "s.add_clause([-x['RAM1'], -x['RAM2']])\n",
    "# RESTRIÇÃO 2\n",
    "s.add_clause([-x['MB1'], -x['PG1'], x['RAM1']])\n",
    "# RESTRIÇÃO 3\n",
    "s.add_clause([-x['PG1'], x['CPU1'], x['RAM2']])\n",
    "# RESTRIÇÃO 4\n",
    "s.add_clause([-x['CPU2'], x['MB2']])\n",
    "# RESTRIÇÃO 5\n",
    "s.add_clause([-x['MON1'], x['PG1']])\n",
    "s.add_clause([-x['MON1'],x['RAM2']])\n",
    "# RESTRIÇÃO 6\n",
    "s.add_clause([-x['MON2'], -x['PG3'], x['RAM2']])\n",
    "\n",
    "if s.solve():      \n",
    "    print(\"SAT\")\n",
    "    print(s.get_model())\n",
    "else:\n",
    "    print(\"UNSAT\")\n",
    "    \n",
    "s.delete()"
   ]
  },
  {
   "cell_type": "markdown",
   "metadata": {},
   "source": [
    "Como se pode verificar pelo *output* do *SAT solver*, o conjunto de fórmulas utilizado é consistente. Uma resposta válida para o problema é um computador com a seguinte configuração:\n",
    "\n",
    "* 1 CPU1\n",
    "* 1 RAM1\n",
    "* 1 MB1\n",
    "* 1 PG1"
   ]
  },
  {
   "cell_type": "markdown",
   "metadata": {},
   "source": [
    "## Pergunta 3"
   ]
  },
  {
   "cell_type": "markdown",
   "metadata": {},
   "source": [
    "#### **a)** O monitor MON1 só poderá ser usado com uma motherboard MB1 ?\n",
    "  * De forma a conseguir responder à questão é necessário inserir clausulas em que o valor lógico de MON1 seja verdadeiro e o de MB1 seja falso. \n",
    "  * Se for possível obter um modelo pode-se usar o MON1 com qualquer outra motherboard, caso contrário, apenas pode ser usada a MB1.\n",
    "  "
   ]
  },
  {
   "cell_type": "code",
   "execution_count": 87,
   "metadata": {},
   "outputs": [
    {
     "name": "stdout",
     "output_type": "stream",
     "text": [
      "SAT\n",
      "[1, -2, -3, 4, -5, 6, 7, -8, -9, 10, -11]\n"
     ]
    }
   ],
   "source": [
    "s = Minisat22() #cria o solver\n",
    "\n",
    "# RESTRIÇÃO 1\n",
    "s.add_clause([x['MB1'], x['MB2']])\n",
    "s.add_clause([-x['MB1'], -x['MB2']])\n",
    "s.add_clause([x['CPU1'], x['CPU2']])\n",
    "s.add_clause([-x['CPU1'], -x['CPU2']])\n",
    "s.add_clause([x['PG1'], x['PG2'], x['PG3']])\n",
    "s.add_clause([-x['PG1'], -x['PG2']])\n",
    "s.add_clause([-x['PG1'], -x['PG3']])\n",
    "s.add_clause([-x['PG2'], -x['PG3']])\n",
    "s.add_clause([x['RAM1'], x['RAM2']])\n",
    "s.add_clause([-x['RAM1'], -x['RAM2']])\n",
    "# RESTRIÇÃO 2\n",
    "s.add_clause([-x['MB1'], -x['PG1'], x['RAM1']])\n",
    "# RESTRIÇÃO 3\n",
    "s.add_clause([-x['PG1'], x['CPU1'], x['RAM2']])\n",
    "# RESTRIÇÃO 4\n",
    "s.add_clause([-x['CPU2'], x['MB2']])\n",
    "# RESTRIÇÃO 5\n",
    "s.add_clause([-x['MON1'], x['PG1']])\n",
    "s.add_clause([-x['MON1'],x['RAM2']])\n",
    "# RESTRIÇÃO 6\n",
    "s.add_clause([-x['MON2'], -x['PG3'], x['RAM2']])\n",
    "# CLAUSULAS INSERIDAS\n",
    "s.add_clause([x['MON1']])\n",
    "s.add_clause([-x['MB1']])\n",
    "\n",
    "\n",
    "if s.solve():      \n",
    "    print(\"SAT\")\n",
    "    print(s.get_model())\n",
    "else:\n",
    "    print(\"UNSAT\")\n",
    "    \n",
    "s.delete()"
   ]
  },
  {
   "cell_type": "markdown",
   "metadata": {},
   "source": [
    "Como é possivel obter um modelo, pode-se verificar que o MON1 pode ser usado com qualquer outra motherboard. Uma resposta válida para o problema é um computador com a seguinte configuração:\n",
    "\n",
    "* 1 CPU1\n",
    "* 1 RAM2\n",
    "* 1 MB2\n",
    "* 1 PG1\n",
    "* 1 MON1"
   ]
  },
  {
   "cell_type": "markdown",
   "metadata": {},
   "source": [
    "#### **b)** Um cliente pode personalizar o seu computador da seguinte forma: uma motherboard MB1, o CPU1, a placa gráfica PG2 e a memória RAM1 ?\n",
    "\n",
    "* De forma a conseguir responder à questão basta inserir clausulas de forma a descrever a configuração do computador pretendido.\n",
    "* Se for possível obter um modelo idêntico como resultado signidica que a configuração é possível, caso contr+ario, é uma configuração impossível."
   ]
  },
  {
   "cell_type": "markdown",
   "metadata": {},
   "source": []
  },
  {
   "cell_type": "code",
   "execution_count": 88,
   "metadata": {},
   "outputs": [
    {
     "name": "stdout",
     "output_type": "stream",
     "text": [
      "SAT\n",
      "[1, -2, 3, -4, 5, -6, -7, 8, -9, -10, -11]\n"
     ]
    }
   ],
   "source": [
    "s = Minisat22() #cria o solver\n",
    "\n",
    "# RESTRIÇÃO 1\n",
    "s.add_clause([x['MB1'], x['MB2']])\n",
    "s.add_clause([-x['MB1'], -x['MB2']])\n",
    "s.add_clause([x['CPU1'], x['CPU2']])\n",
    "s.add_clause([-x['CPU1'], -x['CPU2']])\n",
    "s.add_clause([x['PG1'], x['PG2'], x['PG3']])\n",
    "s.add_clause([-x['PG1'], -x['PG2']])\n",
    "s.add_clause([-x['PG1'], -x['PG3']])\n",
    "s.add_clause([-x['PG2'], -x['PG3']])\n",
    "s.add_clause([x['RAM1'], x['RAM2']])\n",
    "s.add_clause([-x['RAM1'], -x['RAM2']])\n",
    "# RESTRIÇÃO 2\n",
    "s.add_clause([-x['MB1'], -x['PG1'], x['RAM1']])\n",
    "# RESTRIÇÃO 3\n",
    "s.add_clause([-x['PG1'], x['CPU1'], x['RAM2']])\n",
    "# RESTRIÇÃO 4\n",
    "s.add_clause([-x['CPU2'], x['MB2']])\n",
    "# RESTRIÇÃO 5\n",
    "s.add_clause([-x['MON1'], x['PG1']])\n",
    "s.add_clause([-x['MON1'],x['RAM2']])\n",
    "# RESTRIÇÃO 6\n",
    "s.add_clause([-x['MON2'], -x['PG3'], x['RAM2']])\n",
    "# CLAUSULAS INSERIDAS\n",
    "s.add_clause([x['MB1']])\n",
    "s.add_clause([x['CPU1']])\n",
    "s.add_clause([x['PG2']])\n",
    "s.add_clause([x['RAM1']])\n",
    "\n",
    "if s.solve():      \n",
    "    print(\"SAT\")\n",
    "    print(s.get_model())\n",
    "else:\n",
    "    print(\"UNSAT\")\n",
    "    \n",
    "s.delete()"
   ]
  },
  {
   "cell_type": "markdown",
   "metadata": {},
   "source": [
    "Portanto, a solução apresentada pelo *SAT solver* é a seguinte:\n",
    "\n",
    "* 1 CPU1\n",
    "* 1 RAM1\n",
    "* 1 MB1\n",
    "* 1 PG2\n",
    "\n",
    "Logo, pode observar-se que a solução obtida é idêntica à configuração colocada pela questão, logo pode-se confirmar que o cliente pode personalizar um computador com as componentes propostas"
   ]
  },
  {
   "cell_type": "markdown",
   "metadata": {},
   "source": [
    "#### **c)** É possivel combinar a motherboard MB2, a placa gráfica PG3 e a RAM1 num mesmo computador ?\n",
    "\n",
    "* De forma a conseguir responder à questão é necessário inserir clausulas que indiquem as componentes que se pretendem usar.\n",
    "* Se for possível obter um modelo pode-se confirmar que é possível combinar as componentes desejadas, caso contrário, não é possivel configuar o computador de tal forma."
   ]
  },
  {
   "cell_type": "code",
   "execution_count": 89,
   "metadata": {},
   "outputs": [
    {
     "name": "stdout",
     "output_type": "stream",
     "text": [
      "SAT\n",
      "[1, -2, 3, -4, -5, 6, -7, -8, 9, -10, -11]\n"
     ]
    }
   ],
   "source": [
    "s = Minisat22() #cria o solver\n",
    "\n",
    "# RESTRIÇÃO 1\n",
    "s.add_clause([x['MB1'], x['MB2']])\n",
    "s.add_clause([-x['MB1'], -x['MB2']])\n",
    "s.add_clause([x['CPU1'], x['CPU2']])\n",
    "s.add_clause([-x['CPU1'], -x['CPU2']])\n",
    "s.add_clause([x['PG1'], x['PG2'], x['PG3']])\n",
    "s.add_clause([-x['PG1'], -x['PG2']])\n",
    "s.add_clause([-x['PG1'], -x['PG3']])\n",
    "s.add_clause([-x['PG2'], -x['PG3']])\n",
    "s.add_clause([x['RAM1'], x['RAM2']])\n",
    "s.add_clause([-x['RAM1'], -x['RAM2']])\n",
    "# RESTRIÇÃO 2\n",
    "s.add_clause([-x['MB1'], -x['PG1'], x['RAM1']])\n",
    "# RESTRIÇÃO 3\n",
    "s.add_clause([-x['PG1'], x['CPU1'], x['RAM2']])\n",
    "# RESTRIÇÃO 4\n",
    "s.add_clause([-x['CPU2'], x['MB2']])\n",
    "# RESTRIÇÃO 5\n",
    "s.add_clause([-x['MON1'], x['PG1']])\n",
    "s.add_clause([-x['MON1'],x['RAM2']])\n",
    "# RESTRIÇÃO 6\n",
    "s.add_clause([-x['MON2'], -x['PG3'], x['RAM2']])\n",
    "# CLAUSULAS INSERIDAS\n",
    "s.add_clause([x['MB2']])\n",
    "s.add_clause([x['PG3']])\n",
    "s.add_clause([x['RAM1']])\n",
    "\n",
    "\n",
    "if s.solve():      \n",
    "    print(\"SAT\")\n",
    "    print(s.get_model())\n",
    "else:\n",
    "    print(\"UNSAT\")\n",
    "    \n",
    "s.delete()"
   ]
  },
  {
   "cell_type": "markdown",
   "metadata": {},
   "source": [
    "Portanto, a solução apresentada pelo *SAT solver* é a seguinte:\n",
    "\n",
    "* 1 CPU1\n",
    "* 1 RAM1\n",
    "* 1 MB1\n",
    "* 1 PG2\n",
    "\n",
    "Logo, como é possível obter um modelo, pode-se afirmar que as componentes indicadas podem ser utilizadas em conjunto."
   ]
  },
  {
   "cell_type": "markdown",
   "metadata": {},
   "source": [
    "#### **d)** Para combinarmos a placa gráfica PG2 e a RAM1 temos que usar o CPU2 ?\n",
    "\n",
    "* De forma a conseguir responder à questão é necessário inserir clausulas que indiquem as que se pretende utilizar a PG2 e a RAM1 mas que nao se pretende usar o CPU2.\n",
    "* Se for possível obter um modelo pode-se confirmar que não é necessário utilizar o CPU2 para combinar a PG2 e a RAM1."
   ]
  },
  {
   "cell_type": "code",
   "execution_count": 90,
   "metadata": {},
   "outputs": [
    {
     "name": "stdout",
     "output_type": "stream",
     "text": [
      "SAT\n",
      "[1, -2, 3, -4, 5, -6, -7, 8, -9, -10, -11]\n"
     ]
    }
   ],
   "source": [
    "s = Minisat22() #cria o solver\n",
    "\n",
    "# RESTRIÇÃO 1\n",
    "s.add_clause([x['MB1'], x['MB2']])\n",
    "s.add_clause([-x['MB1'], -x['MB2']])\n",
    "s.add_clause([x['CPU1'], x['CPU2']])\n",
    "s.add_clause([-x['CPU1'], -x['CPU2']])\n",
    "s.add_clause([x['PG1'], x['PG2'], x['PG3']])\n",
    "s.add_clause([-x['PG1'], -x['PG2']])\n",
    "s.add_clause([-x['PG1'], -x['PG3']])\n",
    "s.add_clause([-x['PG2'], -x['PG3']])\n",
    "s.add_clause([x['RAM1'], x['RAM2']])\n",
    "s.add_clause([-x['RAM1'], -x['RAM2']])\n",
    "# RESTRIÇÃO 2\n",
    "s.add_clause([-x['MB1'], -x['PG1'], x['RAM1']])\n",
    "# RESTRIÇÃO 3\n",
    "s.add_clause([-x['PG1'], x['CPU1'], x['RAM2']])\n",
    "# RESTRIÇÃO 4\n",
    "s.add_clause([-x['CPU2'], x['MB2']])\n",
    "# RESTRIÇÃO 5\n",
    "s.add_clause([-x['MON1'], x['PG1']])\n",
    "s.add_clause([-x['MON1'],x['RAM2']])\n",
    "# RESTRIÇÃO 6\n",
    "s.add_clause([-x['MON2'], -x['PG3'], x['RAM2']])\n",
    "# CLAUSULAS INSERIDAS\n",
    "s.add_clause([x['PG2']])\n",
    "s.add_clause([x['RAM1']])\n",
    "s.add_clause([-x['CPU2']])\n",
    "\n",
    "\n",
    "if s.solve():      \n",
    "    print(\"SAT\")\n",
    "    print(s.get_model())\n",
    "else:\n",
    "    print(\"UNSAT\")\n",
    "    \n",
    "s.delete()"
   ]
  },
  {
   "cell_type": "markdown",
   "metadata": {},
   "source": [
    "Portanto, a solução apresentada pelo *SAT solver* é a seguinte:\n",
    "\n",
    "* 1 CPU1\n",
    "* 1 RAM1\n",
    "* 1 MB1\n",
    "* 1 PG2\n",
    "\n",
    "Logo, como é possível obter um modelo, pode-se concluir que não é necessário utilizar o CPU2 para combinar a PG2 e a RAM1."
   ]
  },
  {
   "cell_type": "markdown",
   "metadata": {},
   "source": [
    "<div align=\"center\">\n",
    "  <sub>Métodos Formais em Engenharia de Software 22/23</sub>\n",
    "</div>"
   ]
  }
 ],
 "metadata": {
  "kernelspec": {
   "display_name": "Python 3.10.6 64-bit",
   "language": "python",
   "name": "python3"
  },
  "language_info": {
   "codemirror_mode": {
    "name": "ipython",
    "version": 3
   },
   "file_extension": ".py",
   "mimetype": "text/x-python",
   "name": "python",
   "nbconvert_exporter": "python",
   "pygments_lexer": "ipython3",
   "version": "3.10.6"
  },
  "orig_nbformat": 4,
  "vscode": {
   "interpreter": {
    "hash": "916dbcbb3f70747c44a77c7bcd40155683ae19c65e1c03b4aa3499c5328201f1"
   }
  }
 },
 "nbformat": 4,
 "nbformat_minor": 2
}
